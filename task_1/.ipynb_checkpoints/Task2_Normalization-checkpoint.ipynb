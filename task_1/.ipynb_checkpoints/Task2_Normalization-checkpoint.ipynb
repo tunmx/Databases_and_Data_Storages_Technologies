{
 "cells": [
  {
   "cell_type": "markdown",
   "id": "499d70f2",
   "metadata": {},
   "source": [
    "# Task No.2 Normalization"
   ]
  },
  {
   "cell_type": "markdown",
   "id": "8fbde719",
   "metadata": {},
   "source": [
    "**Student:** Jingyu Yan"
   ]
  },
  {
   "cell_type": "markdown",
   "id": "ccc7f1d6",
   "metadata": {},
   "source": [
    "## Task\n",
    "\n",
    "1. Read Lectures #2 Normalization\n",
    "\n",
    "2. Normalize the dataset from Task1 and create a relational database scheme for the OLTP system based on it.\n",
    "\n",
    "3. Created relational database. You can use any RDMS like Oracle, MS SQL Server, Postgres, MySQL, MariaDB etc. \n",
    "\n",
    "4. Provide the created relational database schema (attached schema as example)."
   ]
  },
  {
   "cell_type": "code",
   "execution_count": null,
   "id": "9a900d04",
   "metadata": {},
   "outputs": [],
   "source": []
  },
  {
   "cell_type": "code",
   "execution_count": null,
   "id": "bfa41c80",
   "metadata": {},
   "outputs": [],
   "source": []
  }
 ],
 "metadata": {
  "kernelspec": {
   "display_name": "Python 3 (ipykernel)",
   "language": "python",
   "name": "python3"
  },
  "language_info": {
   "codemirror_mode": {
    "name": "ipython",
    "version": 3
   },
   "file_extension": ".py",
   "mimetype": "text/x-python",
   "name": "python",
   "nbconvert_exporter": "python",
   "pygments_lexer": "ipython3",
   "version": "3.7.11"
  }
 },
 "nbformat": 4,
 "nbformat_minor": 5
}
