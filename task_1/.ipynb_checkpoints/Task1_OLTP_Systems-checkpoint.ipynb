{
 "cells": [
  {
   "cell_type": "markdown",
   "id": "fd68accc",
   "metadata": {},
   "source": [
    "# Task No1 OLTP Systems\n",
    "## Task\n",
    "\n",
    "1. Read Lectures #1 ACID requirements, OLTP systems\n",
    "2. Find a OLTP dataset (csv file) containing more than 1,000,000 records in the\n",
    "open recourses\n",
    "thttps://www.kaggle.com/datasets https://www.stats.govt.nz/large-datasets/csv-files-for-download/\n",
    "3. Select (choose) a list of columns (it is possible to choose not all columns)\n",
    "4. Describe each selected column.\n",
    "5. Describe the functionality of the OLTP system.\n",
    "6. Dataset should not be repeated.\n",
    "\n",
    "For example\n",
    "A dataset containing the statistics of 101 calls for a period. For this dataset, the functionality can be the following:\n",
    "- registering a call to the 101 service; \n",
    "- fixing the result of 101 service;\n",
    "- finding the nearest ambulance, etc."
   ]
  },
  {
   "cell_type": "markdown",
   "id": "2e533cd2",
   "metadata": {},
   "source": [
    "## Analysis\n",
    "\n",
    "I found this dataset from kaggle and hope it can meet the requirements of task1:\n",
    "\n",
    "- Dataset Name: eCommerce Events History in Cosmetics Shop\n",
    "- Dataset source: https://www.kaggle.com/datasets/mkechinov/ecommerce-events-history-in-cosmetics-shop/\n",
    "- Describe: This file contains behavior data for 5 months (Oct 2019 – Feb 2020) from a medium cosmetics online store."
   ]
  },
  {
   "cell_type": "markdown",
   "id": "ce83f4c3",
   "metadata": {},
   "source": [
    "I selected the 2020-Jan.csv file for analysis:"
   ]
  },
  {
   "cell_type": "code",
   "execution_count": 1,
   "id": "07156480",
   "metadata": {},
   "outputs": [],
   "source": [
    "import pandas as pd\n",
    "from IPython.display import display\n",
    "\n",
    "# read the csv\n",
    "orders_data = pd.read_csv('dataset/2020-Jan.csv')"
   ]
  },
  {
   "cell_type": "markdown",
   "id": "95a7cf83",
   "metadata": {},
   "source": [
    "Output this basic information:"
   ]
  },
  {
   "cell_type": "code",
   "execution_count": 16,
   "id": "27c51845",
   "metadata": {},
   "outputs": [
    {
     "data": {
      "text/html": [
       "<pre><class 'pandas.core.frame.DataFrame'>\n",
       "RangeIndex: 4264752 entries, 0 to 4264751\n",
       "Data columns (total 9 columns):\n",
       " #   Column         Dtype  \n",
       "---  ------         -----  \n",
       " 0   event_time     object \n",
       " 1   event_type     object \n",
       " 2   product_id     int64  \n",
       " 3   category_id    int64  \n",
       " 4   category_code  object \n",
       " 5   brand          object \n",
       " 6   price          float64\n",
       " 7   user_id        int64  \n",
       " 8   user_session   object \n",
       "dtypes: float64(1), int64(3), object(5)\n",
       "memory usage: 292.8+ MB\n",
       "</pre>"
      ],
      "text/plain": [
       "<IPython.core.display.HTML object>"
      ]
     },
     "metadata": {},
     "output_type": "display_data"
    }
   ],
   "source": [
    "import io\n",
    "from IPython.display import HTML\n",
    "# display info\n",
    "buffer = io.StringIO()\n",
    "orders_data.info(buf=buffer)\n",
    "info = buffer.getvalue()\n",
    "display(HTML(f'<pre>{info}</pre>'))"
   ]
  },
  {
   "cell_type": "markdown",
   "id": "67b6f439",
   "metadata": {},
   "source": [
    "The first 20 rows of data are shown:"
   ]
  },
  {
   "cell_type": "code",
   "execution_count": 17,
   "id": "9a2826d8",
   "metadata": {},
   "outputs": [
    {
     "data": {
      "text/html": [
       "<div>\n",
       "<style scoped>\n",
       "    .dataframe tbody tr th:only-of-type {\n",
       "        vertical-align: middle;\n",
       "    }\n",
       "\n",
       "    .dataframe tbody tr th {\n",
       "        vertical-align: top;\n",
       "    }\n",
       "\n",
       "    .dataframe thead th {\n",
       "        text-align: right;\n",
       "    }\n",
       "</style>\n",
       "<table border=\"1\" class=\"dataframe\">\n",
       "  <thead>\n",
       "    <tr style=\"text-align: right;\">\n",
       "      <th></th>\n",
       "      <th>event_time</th>\n",
       "      <th>event_type</th>\n",
       "      <th>product_id</th>\n",
       "      <th>category_id</th>\n",
       "      <th>category_code</th>\n",
       "      <th>brand</th>\n",
       "      <th>price</th>\n",
       "      <th>user_id</th>\n",
       "      <th>user_session</th>\n",
       "    </tr>\n",
       "  </thead>\n",
       "  <tbody>\n",
       "    <tr>\n",
       "      <th>0</th>\n",
       "      <td>2020-01-01 00:00:00 UTC</td>\n",
       "      <td>view</td>\n",
       "      <td>5809910</td>\n",
       "      <td>1602943681873052386</td>\n",
       "      <td>NaN</td>\n",
       "      <td>grattol</td>\n",
       "      <td>5.24</td>\n",
       "      <td>595414620</td>\n",
       "      <td>4adb70bb-edbd-4981-b60f-a05bfd32683a</td>\n",
       "    </tr>\n",
       "    <tr>\n",
       "      <th>1</th>\n",
       "      <td>2020-01-01 00:00:09 UTC</td>\n",
       "      <td>view</td>\n",
       "      <td>5812943</td>\n",
       "      <td>1487580012121948301</td>\n",
       "      <td>NaN</td>\n",
       "      <td>kinetics</td>\n",
       "      <td>3.97</td>\n",
       "      <td>595414640</td>\n",
       "      <td>c8c5205d-be43-4f1d-aa56-4828b8151c8a</td>\n",
       "    </tr>\n",
       "    <tr>\n",
       "      <th>2</th>\n",
       "      <td>2020-01-01 00:00:19 UTC</td>\n",
       "      <td>view</td>\n",
       "      <td>5798924</td>\n",
       "      <td>1783999068867920626</td>\n",
       "      <td>NaN</td>\n",
       "      <td>zinger</td>\n",
       "      <td>3.97</td>\n",
       "      <td>595412617</td>\n",
       "      <td>46a5010f-bd69-4fbe-a00d-bb17aa7b46f3</td>\n",
       "    </tr>\n",
       "    <tr>\n",
       "      <th>3</th>\n",
       "      <td>2020-01-01 00:00:24 UTC</td>\n",
       "      <td>view</td>\n",
       "      <td>5793052</td>\n",
       "      <td>1487580005754995573</td>\n",
       "      <td>NaN</td>\n",
       "      <td>NaN</td>\n",
       "      <td>4.92</td>\n",
       "      <td>420652863</td>\n",
       "      <td>546f6af3-a517-4752-a98b-80c4c5860711</td>\n",
       "    </tr>\n",
       "    <tr>\n",
       "      <th>4</th>\n",
       "      <td>2020-01-01 00:00:25 UTC</td>\n",
       "      <td>view</td>\n",
       "      <td>5899926</td>\n",
       "      <td>2115334439910245200</td>\n",
       "      <td>NaN</td>\n",
       "      <td>NaN</td>\n",
       "      <td>3.92</td>\n",
       "      <td>484071203</td>\n",
       "      <td>cff70ddf-529e-4b0c-a4fc-f43a749c0acb</td>\n",
       "    </tr>\n",
       "    <tr>\n",
       "      <th>5</th>\n",
       "      <td>2020-01-01 00:00:30 UTC</td>\n",
       "      <td>view</td>\n",
       "      <td>5837111</td>\n",
       "      <td>1783999068867920626</td>\n",
       "      <td>NaN</td>\n",
       "      <td>staleks</td>\n",
       "      <td>6.35</td>\n",
       "      <td>595412617</td>\n",
       "      <td>46a5010f-bd69-4fbe-a00d-bb17aa7b46f3</td>\n",
       "    </tr>\n",
       "    <tr>\n",
       "      <th>6</th>\n",
       "      <td>2020-01-01 00:00:37 UTC</td>\n",
       "      <td>cart</td>\n",
       "      <td>5850281</td>\n",
       "      <td>1487580006300255120</td>\n",
       "      <td>NaN</td>\n",
       "      <td>marathon</td>\n",
       "      <td>137.78</td>\n",
       "      <td>593016733</td>\n",
       "      <td>848f607c-1d14-474a-8869-c40e60783c9d</td>\n",
       "    </tr>\n",
       "    <tr>\n",
       "      <th>7</th>\n",
       "      <td>2020-01-01 00:00:46 UTC</td>\n",
       "      <td>view</td>\n",
       "      <td>5802440</td>\n",
       "      <td>2151191070908613477</td>\n",
       "      <td>NaN</td>\n",
       "      <td>NaN</td>\n",
       "      <td>2.16</td>\n",
       "      <td>595411904</td>\n",
       "      <td>74ca1cd5-5381-4ffe-b00b-a258b390db77</td>\n",
       "    </tr>\n",
       "    <tr>\n",
       "      <th>8</th>\n",
       "      <td>2020-01-01 00:00:57 UTC</td>\n",
       "      <td>view</td>\n",
       "      <td>5726464</td>\n",
       "      <td>1487580005268456287</td>\n",
       "      <td>NaN</td>\n",
       "      <td>NaN</td>\n",
       "      <td>5.56</td>\n",
       "      <td>420652863</td>\n",
       "      <td>546f6af3-a517-4752-a98b-80c4c5860711</td>\n",
       "    </tr>\n",
       "    <tr>\n",
       "      <th>9</th>\n",
       "      <td>2020-01-01 00:01:02 UTC</td>\n",
       "      <td>remove_from_cart</td>\n",
       "      <td>5850281</td>\n",
       "      <td>1487580006300255120</td>\n",
       "      <td>NaN</td>\n",
       "      <td>marathon</td>\n",
       "      <td>137.78</td>\n",
       "      <td>593016733</td>\n",
       "      <td>848f607c-1d14-474a-8869-c40e60783c9d</td>\n",
       "    </tr>\n",
       "  </tbody>\n",
       "</table>\n",
       "</div>"
      ],
      "text/plain": [
       "                event_time        event_type  product_id          category_id  \\\n",
       "0  2020-01-01 00:00:00 UTC              view     5809910  1602943681873052386   \n",
       "1  2020-01-01 00:00:09 UTC              view     5812943  1487580012121948301   \n",
       "2  2020-01-01 00:00:19 UTC              view     5798924  1783999068867920626   \n",
       "3  2020-01-01 00:00:24 UTC              view     5793052  1487580005754995573   \n",
       "4  2020-01-01 00:00:25 UTC              view     5899926  2115334439910245200   \n",
       "5  2020-01-01 00:00:30 UTC              view     5837111  1783999068867920626   \n",
       "6  2020-01-01 00:00:37 UTC              cart     5850281  1487580006300255120   \n",
       "7  2020-01-01 00:00:46 UTC              view     5802440  2151191070908613477   \n",
       "8  2020-01-01 00:00:57 UTC              view     5726464  1487580005268456287   \n",
       "9  2020-01-01 00:01:02 UTC  remove_from_cart     5850281  1487580006300255120   \n",
       "\n",
       "  category_code     brand   price    user_id  \\\n",
       "0           NaN   grattol    5.24  595414620   \n",
       "1           NaN  kinetics    3.97  595414640   \n",
       "2           NaN    zinger    3.97  595412617   \n",
       "3           NaN       NaN    4.92  420652863   \n",
       "4           NaN       NaN    3.92  484071203   \n",
       "5           NaN   staleks    6.35  595412617   \n",
       "6           NaN  marathon  137.78  593016733   \n",
       "7           NaN       NaN    2.16  595411904   \n",
       "8           NaN       NaN    5.56  420652863   \n",
       "9           NaN  marathon  137.78  593016733   \n",
       "\n",
       "                           user_session  \n",
       "0  4adb70bb-edbd-4981-b60f-a05bfd32683a  \n",
       "1  c8c5205d-be43-4f1d-aa56-4828b8151c8a  \n",
       "2  46a5010f-bd69-4fbe-a00d-bb17aa7b46f3  \n",
       "3  546f6af3-a517-4752-a98b-80c4c5860711  \n",
       "4  cff70ddf-529e-4b0c-a4fc-f43a749c0acb  \n",
       "5  46a5010f-bd69-4fbe-a00d-bb17aa7b46f3  \n",
       "6  848f607c-1d14-474a-8869-c40e60783c9d  \n",
       "7  74ca1cd5-5381-4ffe-b00b-a258b390db77  \n",
       "8  546f6af3-a517-4752-a98b-80c4c5860711  \n",
       "9  848f607c-1d14-474a-8869-c40e60783c9d  "
      ]
     },
     "metadata": {},
     "output_type": "display_data"
    }
   ],
   "source": [
    "display(orders_data.head(10))"
   ]
  },
  {
   "cell_type": "markdown",
   "id": "87fa1f65",
   "metadata": {},
   "source": [
    "Check for missing values in key columns"
   ]
  },
  {
   "cell_type": "code",
   "execution_count": 21,
   "id": "48fab64d",
   "metadata": {},
   "outputs": [
    {
     "name": "stdout",
     "output_type": "stream",
     "text": [
      "Missing Data in Key Columns: event_time             0\n",
      "event_type             0\n",
      "product_id             0\n",
      "category_id            0\n",
      "category_code    4190033\n",
      "brand            1775630\n",
      "price                  0\n",
      "user_id                0\n",
      "user_session        1314\n",
      "dtype: int64\n"
     ]
    }
   ],
   "source": [
    "missing_data = orders_data.isnull().sum()\n",
    "\n",
    "print(f\"Missing Data in Key Columns: {missing_data}\")"
   ]
  },
  {
   "cell_type": "markdown",
   "id": "fd200128",
   "metadata": {},
   "source": [
    "Three columns have significant missing data, especially category_code and brand, which may need to be properly populated to be Task1 compliant.So I'm going to ignore these lists for now."
   ]
  },
  {
   "cell_type": "markdown",
   "id": "78ce6047",
   "metadata": {},
   "source": [
    "Check for transaction types:"
   ]
  },
  {
   "cell_type": "code",
   "execution_count": 24,
   "id": "c44fb98f",
   "metadata": {},
   "outputs": [
    {
     "name": "stdout",
     "output_type": "stream",
     "text": [
      "Transaction Types: ['view' 'cart' 'remove_from_cart' 'purchase']\n"
     ]
    }
   ],
   "source": [
    "transaction_types = orders_data['event_type'].unique()\n",
    "print(f\"Transaction Types: {transaction_types}\")"
   ]
  },
  {
   "cell_type": "markdown",
   "id": "a4ddf47f",
   "metadata": {},
   "source": [
    "The event type has 4 user actions:\n",
    "- view: User browsing products;\n",
    "- cart: Use to add items to the shopping cart;\n",
    "- remove_from_cart: Remove the item from the shopping cart;\n",
    "- purchase: Purchase commodity."
   ]
  },
  {
   "cell_type": "markdown",
   "id": "7bf8f7c3",
   "metadata": {},
   "source": [
    "Check for missing values in key columns:"
   ]
  },
  {
   "cell_type": "code",
   "execution_count": 26,
   "id": "0df6dce1",
   "metadata": {},
   "outputs": [
    {
     "name": "stdout",
     "output_type": "stream",
     "text": [
      "Concurrent Events: \n",
      "2020-01-09 09:06:06 UTC    257\n",
      "2020-01-14 20:24:38 UTC    235\n",
      "2020-01-22 11:21:29 UTC    181\n",
      "2020-01-19 12:10:19 UTC    180\n",
      "2020-01-29 12:16:49 UTC    173\n",
      "2020-01-27 13:46:56 UTC    171\n",
      "2020-01-23 12:57:31 UTC    170\n",
      "2020-01-29 07:53:06 UTC    138\n",
      "2020-01-16 13:21:26 UTC    137\n",
      "2020-01-17 15:26:56 UTC    135\n",
      "Name: event_time, dtype: int64\n"
     ]
    }
   ],
   "source": [
    "concurrent_events = orders_data['event_time'].value_counts().head(10)\n",
    "print(f\"Concurrent Events: \")\n",
    "print(f\"{concurrent_events}\")"
   ]
  },
  {
   "cell_type": "markdown",
   "id": "6a87b933",
   "metadata": {},
   "source": [
    "I found that at certain times, the system will have a large amount of concurrent user behavior, such as 2020-01-09 09:06:06 can reach 257 times.\n",
    "\n",
    "With such levels of concurrency, I believe the system must satisfy OLTP requirements to ensure the integrity of the business and the robustness of the system."
   ]
  },
  {
   "cell_type": "markdown",
   "id": "d18d19cc",
   "metadata": {},
   "source": [
    "## My results"
   ]
  },
  {
   "cell_type": "markdown",
   "id": "ea0285a0",
   "metadata": {},
   "source": [
    "This is a dataset that records user behavior on an e-commerce website over a period of time.\n",
    "\n",
    "### Describe each selected colum:\n",
    "\n",
    "- **event_time**: Timestamp of when the event occurred, vital for analyzing user behavior patterns and system performance.\n",
    "- **event_type**: Type of user interaction with a product, such as \"view\", \"cart\", \"remove_from_cart\", or \"purchase\".\n",
    "- **product_id**: A unique identifier for the product category, used for classifying products.\n",
    "- **user_id**: A unique identify for the user. allowing the system to track and analyze individual user behavior patterns.\n",
    "- **user_session**: A unique identifier for the user session, I believe this session is used to record a user's activities over a certain period of time, essentially grouping user behavior into short-term segments based on time."
   ]
  },
  {
   "cell_type": "markdown",
   "id": "be676b23",
   "metadata": {},
   "source": [
    "### For this dataset, the functionality can be the following:\n",
    "\n",
    "**1. Event Tracking**:\n",
    "- Capturing and logging user interaction as they occur in real-time.\n",
    "- Identifying the type of interaction(like 'view', 'cart', 'remove_from_cart', 'purchase') to understand user engagement.\n",
    "\n",
    "\n",
    "**2. Inventory Management**:\n",
    "- Tracking the flow of products through user interactions by product identifiers.\n",
    "- Managing invetory levels based on user activities such as adding to cart and purchases, which my affect stock levels.\n",
    "\n",
    "**3. Customer Identification**:\n",
    "- Identifying and tracking users through unique identifiers to provide parsonalized experience and support customer service operations.\n",
    "\n",
    "**4. Sales Processing**:\n",
    "- Facilitating the purchase transactions and ensuring their completion with robust transaction processing mechanisms.\n",
    "\n",
    "**5. Analytics and Reporting**:\n",
    "- Analyzing user behavior for business intelligence to inform marketing strategies, prodect placement, and inventory planning.\n",
    "- Generating reports on sales trends, product popularity, and user engagement."
   ]
  }
 ],
 "metadata": {
  "kernelspec": {
   "display_name": "Python 3",
   "language": "python",
   "name": "python3"
  },
  "language_info": {
   "codemirror_mode": {
    "name": "ipython",
    "version": 3
   },
   "file_extension": ".py",
   "mimetype": "text/x-python",
   "name": "python",
   "nbconvert_exporter": "python",
   "pygments_lexer": "ipython3",
   "version": "3.7.10"
  }
 },
 "nbformat": 4,
 "nbformat_minor": 5
}
