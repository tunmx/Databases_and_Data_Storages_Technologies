{
 "cells": [
  {
   "cell_type": "markdown",
   "id": "747f8d5d",
   "metadata": {},
   "source": [
    "# Task No1 OLTP Systems\n",
    "\n",
    "1. Read Lectures #1 ACID requirements, OLTP systems\n",
    "2. Find a OLTP dataset (csv file) containing more than 1,000,000 records in the\n",
    "open recourses\n",
    "thttps://www.kaggle.com/datasets https://www.stats.govt.nz/large-datasets/csv-files-for-download/\n",
    "3. Select (choose) a list of columns (it is possible to choose not all columns)\n",
    "4. Describe each selected column.\n",
    "5. Describe the functionality of the OLTP system.\n",
    "6. Dataset should not be repeated.\n",
    "\n",
    "**For example**\n",
    "\n",
    "A dataset containing the statistics of 101 calls for a period. For this dataset, the functionality can be the following:\n",
    "1. registering a call to the 101 service; \n",
    "\n",
    "2. fixing the result of 101 service;\n",
    "\n",
    "3. finding the nearest ambulance, etc."
   ]
  },
  {
   "cell_type": "markdown",
   "id": "ed071ef1",
   "metadata": {},
   "source": [
    "## My work\n",
    "\n",
    "I found a Dataset on kaggle: Brazilian E-Commerce Public Dataset by Olist(https://www.kaggle.com/datasets/olistbr/brazilian-ecommerce):\n",
    "\n",
    "```\n",
    "Welcome! This is a Brazilian ecommerce public dataset of orders made at Olist Store. The dataset has information of 100k orders from 2016 to 2018 made at multiple marketplaces in Brazil. Its features allows viewing an order from multiple dimensions: from order status, price, payment and freight performance to customer location, product attributes and finally reviews written by customers. We also released a geolocation dataset that relates Brazilian zip codes to lat/lng coordinates.\n",
    "\n",
    "This is real commercial data, it has been anonymised, and references to the companies and partners in the review text have been replaced with the names of Game of Thrones great houses.\n",
    "```\n",
    "\n",
    "In my opinion, the table olist_orders_dataset.csv conforms to OLTP, because it records the user's order process data, which is strict and needs to maintain the integrity and consistency of the data."
   ]
  },
  {
   "cell_type": "code",
   "execution_count": 2,
   "id": "325242e7",
   "metadata": {},
   "outputs": [
    {
     "name": "stdout",
     "output_type": "stream",
     "text": [
      "<class 'pandas.core.frame.DataFrame'>\n",
      "RangeIndex: 99441 entries, 0 to 99440\n",
      "Data columns (total 8 columns):\n",
      " #   Column                         Non-Null Count  Dtype \n",
      "---  ------                         --------------  ----- \n",
      " 0   order_id                       99441 non-null  object\n",
      " 1   customer_id                    99441 non-null  object\n",
      " 2   order_status                   99441 non-null  object\n",
      " 3   order_purchase_timestamp       99441 non-null  object\n",
      " 4   order_approved_at              99281 non-null  object\n",
      " 5   order_delivered_carrier_date   97658 non-null  object\n",
      " 6   order_delivered_customer_date  96476 non-null  object\n",
      " 7   order_estimated_delivery_date  99441 non-null  object\n",
      "dtypes: object(8)\n",
      "memory usage: 6.1+ MB\n"
     ]
    }
   ],
   "source": [
    "import pandas as pd\n",
    "\n",
    "# Load the dataset\n",
    "orders_df = pd.read_csv('Brazilian_E-Commerce_Public_Dataset_by_Olist/olist_orders_dataset.csv')\n",
    "\n",
    "# Display the first few rows of the dataframe\n",
    "orders_head = orders_df.head()\n",
    "\n",
    "# Get a concise summary of the dataframe\n",
    "orders_info = orders_df.info()\n"
   ]
  },
  {
   "cell_type": "code",
   "execution_count": null,
   "id": "b2798fd2",
   "metadata": {},
   "outputs": [],
   "source": []
  }
 ],
 "metadata": {
  "kernelspec": {
   "display_name": "Python 3 (ipykernel)",
   "language": "python",
   "name": "python3"
  },
  "language_info": {
   "codemirror_mode": {
    "name": "ipython",
    "version": 3
   },
   "file_extension": ".py",
   "mimetype": "text/x-python",
   "name": "python",
   "nbconvert_exporter": "python",
   "pygments_lexer": "ipython3",
   "version": "3.7.11"
  }
 },
 "nbformat": 4,
 "nbformat_minor": 5
}
