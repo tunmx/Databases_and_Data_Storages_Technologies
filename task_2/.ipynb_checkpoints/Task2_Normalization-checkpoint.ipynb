{
 "cells": [
  {
   "cell_type": "markdown",
   "id": "499d70f2",
   "metadata": {},
   "source": [
    "# Task No.2 Normalization"
   ]
  },
  {
   "cell_type": "markdown",
   "id": "8fbde719",
   "metadata": {},
   "source": [
    "**Student:** Jingyu Yan"
   ]
  },
  {
   "cell_type": "markdown",
   "id": "ccc7f1d6",
   "metadata": {},
   "source": [
    "## 0. Task\n",
    "\n",
    "1. Read Lectures #2 Normalization\n",
    "\n",
    "2. Normalize the dataset from Task1 and create a relational database scheme for the OLTP system based on it.\n",
    "\n",
    "3. Created relational database. You can use any RDMS like Oracle, MS SQL Server, Postgres, MySQL, MariaDB etc. \n",
    "\n",
    "4. Provide the created relational database schema (attached schema as example).\n",
    "\n",
    "![](images/database_schema.jpg)"
   ]
  },
  {
   "cell_type": "markdown",
   "id": "ffeb1a0c",
   "metadata": {},
   "source": [
    "## 1. Analysis\n",
    "\n",
    "Through the Task_1 case, I have found a dataset named \"eCommerce Events History in Cosmetics Shop\" and conducted a basic data analysis.\n",
    "\n",
    "Task_1 url: [https://github.com/tunmx/Databases_and_Data_Storages_Technologies/blob/main/task_1/Task1_OLTP_Systems.ipynb](https://github.com/tunmx/Databases_and_Data_Storages_Technologies/blob/main/task_1/Task1_OLTP_Systems.ipynb)\n",
    "\n",
    "This dataset only has one 'events' table and may have been derived from a joint table query, making it suitable for data analysis. "
   ]
  },
  {
   "cell_type": "code",
   "execution_count": 1,
   "id": "37c6d1d6",
   "metadata": {},
   "outputs": [
    {
     "data": {
      "text/html": [
       "<div>\n",
       "<style scoped>\n",
       "    .dataframe tbody tr th:only-of-type {\n",
       "        vertical-align: middle;\n",
       "    }\n",
       "\n",
       "    .dataframe tbody tr th {\n",
       "        vertical-align: top;\n",
       "    }\n",
       "\n",
       "    .dataframe thead th {\n",
       "        text-align: right;\n",
       "    }\n",
       "</style>\n",
       "<table border=\"1\" class=\"dataframe\">\n",
       "  <thead>\n",
       "    <tr style=\"text-align: right;\">\n",
       "      <th></th>\n",
       "      <th>event_time</th>\n",
       "      <th>event_type</th>\n",
       "      <th>product_id</th>\n",
       "      <th>category_id</th>\n",
       "      <th>category_code</th>\n",
       "      <th>brand</th>\n",
       "      <th>price</th>\n",
       "      <th>user_id</th>\n",
       "      <th>user_session</th>\n",
       "    </tr>\n",
       "  </thead>\n",
       "  <tbody>\n",
       "    <tr>\n",
       "      <th>0</th>\n",
       "      <td>2020-01-01 00:00:00 UTC</td>\n",
       "      <td>view</td>\n",
       "      <td>5809910</td>\n",
       "      <td>1602943681873052386</td>\n",
       "      <td>NaN</td>\n",
       "      <td>grattol</td>\n",
       "      <td>5.24</td>\n",
       "      <td>595414620</td>\n",
       "      <td>4adb70bb-edbd-4981-b60f-a05bfd32683a</td>\n",
       "    </tr>\n",
       "    <tr>\n",
       "      <th>1</th>\n",
       "      <td>2020-01-01 00:00:09 UTC</td>\n",
       "      <td>view</td>\n",
       "      <td>5812943</td>\n",
       "      <td>1487580012121948301</td>\n",
       "      <td>NaN</td>\n",
       "      <td>kinetics</td>\n",
       "      <td>3.97</td>\n",
       "      <td>595414640</td>\n",
       "      <td>c8c5205d-be43-4f1d-aa56-4828b8151c8a</td>\n",
       "    </tr>\n",
       "    <tr>\n",
       "      <th>2</th>\n",
       "      <td>2020-01-01 00:00:19 UTC</td>\n",
       "      <td>view</td>\n",
       "      <td>5798924</td>\n",
       "      <td>1783999068867920626</td>\n",
       "      <td>NaN</td>\n",
       "      <td>zinger</td>\n",
       "      <td>3.97</td>\n",
       "      <td>595412617</td>\n",
       "      <td>46a5010f-bd69-4fbe-a00d-bb17aa7b46f3</td>\n",
       "    </tr>\n",
       "    <tr>\n",
       "      <th>3</th>\n",
       "      <td>2020-01-01 00:00:24 UTC</td>\n",
       "      <td>view</td>\n",
       "      <td>5793052</td>\n",
       "      <td>1487580005754995573</td>\n",
       "      <td>NaN</td>\n",
       "      <td>NaN</td>\n",
       "      <td>4.92</td>\n",
       "      <td>420652863</td>\n",
       "      <td>546f6af3-a517-4752-a98b-80c4c5860711</td>\n",
       "    </tr>\n",
       "    <tr>\n",
       "      <th>4</th>\n",
       "      <td>2020-01-01 00:00:25 UTC</td>\n",
       "      <td>view</td>\n",
       "      <td>5899926</td>\n",
       "      <td>2115334439910245200</td>\n",
       "      <td>NaN</td>\n",
       "      <td>NaN</td>\n",
       "      <td>3.92</td>\n",
       "      <td>484071203</td>\n",
       "      <td>cff70ddf-529e-4b0c-a4fc-f43a749c0acb</td>\n",
       "    </tr>\n",
       "  </tbody>\n",
       "</table>\n",
       "</div>"
      ],
      "text/plain": [
       "                event_time event_type  product_id          category_id  \\\n",
       "0  2020-01-01 00:00:00 UTC       view     5809910  1602943681873052386   \n",
       "1  2020-01-01 00:00:09 UTC       view     5812943  1487580012121948301   \n",
       "2  2020-01-01 00:00:19 UTC       view     5798924  1783999068867920626   \n",
       "3  2020-01-01 00:00:24 UTC       view     5793052  1487580005754995573   \n",
       "4  2020-01-01 00:00:25 UTC       view     5899926  2115334439910245200   \n",
       "\n",
       "  category_code     brand  price    user_id  \\\n",
       "0           NaN   grattol   5.24  595414620   \n",
       "1           NaN  kinetics   3.97  595414640   \n",
       "2           NaN    zinger   3.97  595412617   \n",
       "3           NaN       NaN   4.92  420652863   \n",
       "4           NaN       NaN   3.92  484071203   \n",
       "\n",
       "                           user_session  \n",
       "0  4adb70bb-edbd-4981-b60f-a05bfd32683a  \n",
       "1  c8c5205d-be43-4f1d-aa56-4828b8151c8a  \n",
       "2  46a5010f-bd69-4fbe-a00d-bb17aa7b46f3  \n",
       "3  546f6af3-a517-4752-a98b-80c4c5860711  \n",
       "4  cff70ddf-529e-4b0c-a4fc-f43a749c0acb  "
      ]
     },
     "metadata": {},
     "output_type": "display_data"
    }
   ],
   "source": [
    "import pandas as pd\n",
    "from IPython.display import display\n",
    "\n",
    "# read the csv\n",
    "orders_data = pd.read_csv('../dataset/2020-Jan.csv')\n",
    "# show top 5\n",
    "display(orders_data.head(5))"
   ]
  },
  {
   "cell_type": "markdown",
   "id": "3f9c326f",
   "metadata": {},
   "source": [
    "By analyzing the table headers, I discarded the 'user_session' field and used this table to build a database, expanding into multiple tables to form a complete e-commerce system."
   ]
  },
  {
   "cell_type": "markdown",
   "id": "07e522f9",
   "metadata": {},
   "source": [
    "## 2. Design"
   ]
  },
  {
   "cell_type": "markdown",
   "id": "156bb834",
   "metadata": {},
   "source": [
    "Through this dataset, I think it's necessary to design the following tables: User, Product, Category, Order, OrderDetail, Event, Cart, and CartItem, to form a complete e-commerce database."
   ]
  },
  {
   "cell_type": "code",
   "execution_count": 2,
   "id": "2405dad5",
   "metadata": {},
   "outputs": [
    {
     "data": {
      "text/html": [
       "\n",
       "<style>\n",
       "    .rendered_html table, .rendered_html th, .rendered_html tr, .rendered_html td {\n",
       "        text-align: left !important;\n",
       "        border: none !important;\n",
       "        margin-left: 0 !important;\n",
       "        margin-right: 0 !important;\n",
       "    }\n",
       "    .rendered_html h3, .rendered_html h2, .rendered_html h1 {\n",
       "        margin-left: 0 !important;\n",
       "        margin-right: 0 !important;\n",
       "    }\n",
       "</style>\n"
      ],
      "text/plain": [
       "<IPython.core.display.HTML object>"
      ]
     },
     "metadata": {},
     "output_type": "display_data"
    }
   ],
   "source": [
    "from IPython.display import display, HTML\n",
    "\n",
    "css = '''\n",
    "<style>\n",
    "    .rendered_html table, .rendered_html th, .rendered_html tr, .rendered_html td {\n",
    "        text-align: left !important;\n",
    "        border: none !important;\n",
    "        margin-left: 0 !important;\n",
    "        margin-right: 0 !important;\n",
    "    }\n",
    "    .rendered_html h3, .rendered_html h2, .rendered_html h1 {\n",
    "        margin-left: 0 !important;\n",
    "        margin-right: 0 !important;\n",
    "    }\n",
    "</style>\n",
    "'''\n",
    "display(HTML(css))"
   ]
  },
  {
   "cell_type": "markdown",
   "id": "538ad6aa",
   "metadata": {},
   "source": [
    "### User Table\n",
    "| Field             | Type         | Description            |\n",
    "|-------------------|--------------|------------------------|\n",
    "| id                | Integer      | The unique identifier for the user, primary key. |\n",
    "| username          | String(100)  | The username, must be non-null and unique in the table. |\n",
    "| email             | String(100)  | The user's email address, must be non-null and unique in the table. |\n",
    "| password_hash     | String(255)  | The hash of the user's password, must be non-null. |\n",
    "| registration_date | DateTime     | The date and time of user registration, defaults to the current time. |\n",
    "| last_login        | DateTime     | The date and time of the user's last login, updated upon each login. |\n"
   ]
  },
  {
   "cell_type": "markdown",
   "id": "5e94b932",
   "metadata": {},
   "source": [
    "### Product Table\n",
    "\n",
    "| Field          | Type         | Description                              |\n",
    "|----------------|--------------|------------------------------------------|\n",
    "| id             | Integer      | Unique identifier for the product, primary key.                    |\n",
    "| name           | String(100)  | Product name, cannot be null.                        |\n",
    "| category_id    | Integer      | Foreign key reference to the product category.                    |\n",
    "| brand          | String(50)   | Product brand.                                 |\n",
    "| price          | Float        | Product price, cannot be null.                        |\n",
    "| description    | String(255)  | Product description.                                 |\n",
    "| stock_quantity | Integer      | Product stock quantity, cannot be null.        |"
   ]
  },
  {
   "cell_type": "markdown",
   "id": "af3ef06f",
   "metadata": {},
   "source": [
    "### Category Table\n",
    "\n",
    "| Field              | Type    | Description                                       |\n",
    "|--------------------|---------|---------------------------------------------------|\n",
    "| id                 | Integer | The unique identifier for the category, primary key. |\n",
    "| name               | String(100) | The category name, must be non-null and unique within the table. |\n",
    "| code               | String(50)  | The category code, must be non-null and unique within the table. |\n",
    "| parent_category_id | Integer | Foreign key reference to the parent category (if applicable). |"
   ]
  },
  {
   "cell_type": "markdown",
   "id": "04e23d05",
   "metadata": {},
   "source": [
    "### Order Table\n",
    "\n",
    "| Field       | Type    | Description                                      |\n",
    "|-------------|---------|--------------------------------------------------|\n",
    "| id          | Integer | The unique identifier for the order, primary key. |\n",
    "| user_id     | Integer | Foreign key reference to the user who created the order. |\n",
    "| order_date  | DateTime | The date and time when the order was created, defaults to the current time. |\n",
    "| status      | String(50) | The status of the order.                        |\n",
    "| total_price | Float   | The total price of the order, must be non-null.  |"
   ]
  },
  {
   "cell_type": "markdown",
   "id": "24bbeecd",
   "metadata": {},
   "source": [
    "### OrderDetail Table\n",
    "\n",
    "| Field      | Type    | Description                                      |\n",
    "|------------|---------|--------------------------------------------------|\n",
    "| id         | Integer | The unique identifier for the order detail, primary key. |\n",
    "| order_id   | Integer | Foreign key reference to the associated order.   |\n",
    "| product_id | Integer | Foreign key reference to the purchased product.  |\n",
    "| quantity   | Integer | The quantity of the product purchased, must be non-null. |\n",
    "| price      | Float   | The price of the product purchased, must be non-null. |\n",
    "| discount   | Float   | The discount on the purchased product (if applicable). |"
   ]
  },
  {
   "cell_type": "markdown",
   "id": "2f40184c",
   "metadata": {},
   "source": [
    "### Event Table\n",
    "\n",
    "| Field      | Type    | Description                                       |\n",
    "|------------|---------|---------------------------------------------------|\n",
    "| id         | Integer | The unique identifier for the event, primary key.  |\n",
    "| user_id    | Integer | Foreign key reference to the user related to the event. |\n",
    "| product_id | Integer | Foreign key reference to the product related to the event. |\n",
    "| event_type | String(50) | The type of event (e.g., view, add to cart, etc.). |\n",
    "| event_time | DateTime | The date and time when the event occurred, defaults to the current time. |"
   ]
  },
  {
   "cell_type": "markdown",
   "id": "3aa3a1b2",
   "metadata": {},
   "source": [
    "### Cart Table\n",
    "\n",
    "| Field   | Type    | Description                                       |\n",
    "|---------|---------|---------------------------------------------------|\n",
    "| id      | Integer | The unique identifier for the cart, primary key.   |\n",
    "| user_id | Integer | Foreign key reference to the user owning the cart, unique. |"
   ]
  },
  {
   "cell_type": "markdown",
   "id": "86087782",
   "metadata": {},
   "source": [
    "### CartItem Table\n",
    "\n",
    "| Field      | Type     | Description                                       |\n",
    "|------------|----------|---------------------------------------------------|\n",
    "| id         | Integer  | The unique identifier for the cart item, primary key. |\n",
    "| cart_id    | Integer  | Foreign key reference to the cart's identifier.   |\n",
    "| product_id | Integer  | Foreign key reference to the product's identifier.|\n",
    "| quantity   | Integer  | The quantity of the product in the cart, must be non-null. |\n",
    "| added_time | DateTime | The date and time when the product was added to the cart, defaults to the current time. |"
   ]
  },
  {
   "cell_type": "markdown",
   "id": "300dea4a",
   "metadata": {},
   "source": [
    "### ERD\n",
    "\n",
    "I have designed an Entity-Relationship (ER) diagram for these tables, which roughly looks like the following image."
   ]
  },
  {
   "cell_type": "markdown",
   "id": "0444c8de",
   "metadata": {},
   "source": [
    "![](ERD.drawio.png)"
   ]
  },
  {
   "cell_type": "markdown",
   "id": "1a2b3c3e",
   "metadata": {},
   "source": [
    "## Implement\n",
    "\n",
    "For the implementation of the database, I have chosen MySQL and decided to carry out the implementation in a Python environment. SQLAlchemy, being the most popular ORM tool in Python, offers a convenient way to define models in code and map them to database tables. I will use it to fulfill the task at hand. The necessary configuration parameters are outlined in the table below.\n",
    "\n",
    "| Parameter      | Value       | Description                     |\n",
    "|----------------|-------------|---------------------------------|\n",
    "| System         | Like-Unix   | The MacOS.      |\n",
    "| Container      | Docker      | Indicates that MySQL is running in a Docker container. |\n",
    "| Database       | MySQL 5.7       | The chosen database system.     |\n",
    "| Environment    | Python 3.7      | The programming environment.    |\n",
    "| ORM Tool       | SQLAlchemy  | The tool for object-relational mapping. |\n"
   ]
  },
  {
   "cell_type": "markdown",
   "id": "4e3b6b29",
   "metadata": {},
   "source": [
    "### 2.1 ORM Model Definition with SQLAlchemy\n",
    "\n",
    "I use Object-Relational Mapping (ORM) to design the database, aiming to expand or annotate the original text of abbreviations where possible."
   ]
  },
  {
   "cell_type": "code",
   "execution_count": 3,
   "id": "7d07147a",
   "metadata": {},
   "outputs": [],
   "source": [
    "# %load models.py\n",
    "from sqlalchemy import create_engine, Column, Integer, String, Float, DateTime, ForeignKey\n",
    "from sqlalchemy.orm import relationship\n",
    "from sqlalchemy.ext.declarative import declarative_base\n",
    "from sqlalchemy.sql import func\n",
    "from setting import get_engine\n",
    "\n",
    "Base = declarative_base()\n",
    "\n",
    "class User(Base):\n",
    "    \"\"\"User model\"\"\"\n",
    "    __tablename__ = 'users'\n",
    "    id = Column(Integer, primary_key=True)  # User ID, primary key\n",
    "    username = Column(String(100), nullable=False, unique=True)  # Username, must be non-null and unique\n",
    "    email = Column(String(100), nullable=False, unique=True)  # Email, must be non-null and unique\n",
    "    password_hash = Column(String(255), nullable=False)  # Password hash, must be non-null\n",
    "    registration_date = Column(DateTime, default=func.now())  # Registration date and time, defaults to now\n",
    "    last_login = Column(DateTime, onupdate=func.now())  # Last login date and time, updates on login\n",
    "\n",
    "    # Relationships with other tables\n",
    "    orders = relationship('Order', back_populates='user')  # User's orders\n",
    "    events = relationship('Event', back_populates='user')  # User's events\n",
    "    cart = relationship('Cart', uselist=False, back_populates='user', cascade='all, delete-orphan')  # User's cart\n",
    "\n",
    "class Product(Base):\n",
    "    \"\"\"Product model\"\"\"\n",
    "    __tablename__ = 'products'\n",
    "    id = Column(Integer, primary_key=True)  # Product ID, primary key\n",
    "    name = Column(String(100), nullable=False)  # Product name, must be non-null\n",
    "    category_id = Column(Integer, ForeignKey('categories.id'))  # Foreign key to category\n",
    "    brand = Column(String(50))  # Brand\n",
    "    price = Column(Float, nullable=False)  # Price, must be non-null\n",
    "    description = Column(String(255))  # Description\n",
    "    stock_quantity = Column(Integer, nullable=False)  # Stock quantity, must be non-null\n",
    "\n",
    "    # Relationships with other tables\n",
    "    order_details = relationship('OrderDetail', back_populates='product')  # Product's order details\n",
    "    events = relationship('Event', back_populates='product')  # Product's events\n",
    "    cart_items = relationship('CartItem', back_populates='product')  # Products in the cart\n",
    "\n",
    "class Category(Base):\n",
    "    \"\"\"Category model\"\"\"\n",
    "    __tablename__ = 'categories'\n",
    "    id = Column(Integer, primary_key=True)  # Category ID, primary key\n",
    "    name = Column(String(100), nullable=False, unique=True)  # Category name, must be non-null and unique\n",
    "    code = Column(String(50), nullable=False, unique=True)  # Category code, must be non-null and unique\n",
    "    parent_category_id = Column(Integer, ForeignKey('categories.id'))  # Parent category ID, foreign key\n",
    "\n",
    "    # Relationship with the product table\n",
    "    products = relationship('Product', back_populates='category')  # Products belonging to this category\n",
    "\n",
    "class Order(Base):\n",
    "    \"\"\"Order model\"\"\"\n",
    "    __tablename__ = 'orders'\n",
    "    id = Column(Integer, primary_key=True)  # Order ID, primary key\n",
    "    user_id = Column(Integer, ForeignKey('users.id'))  # Foreign key to user who created the order\n",
    "    order_date = Column(DateTime, default=func.now())  # Order creation date and time, defaults to now\n",
    "    status = Column(String(50))  # Order status\n",
    "    total_price = Column(Float, nullable=False)  # Total price of the order, must be non-null\n",
    "\n",
    "    # Relationships with other tables\n",
    "    user = relationship('User', back_populates='orders')  # User who placed the order\n",
    "    order_details = relationship('OrderDetail', back_populates='order')  # Order details\n",
    "\n",
    "class OrderDetail(Base):\n",
    "    \"\"\"Order detail model\"\"\"\n",
    "    __tablename__ = 'order_details'\n",
    "    id = Column(Integer, primary_key=True)  # Order detail ID, primary key\n",
    "    order_id = Column(Integer, ForeignKey('orders.id'))  # Foreign key to the order\n",
    "    product_id = Column(Integer, ForeignKey('products.id'))  # Foreign key to the product\n",
    "    quantity = Column(Integer, nullable=False)  # Quantity of the product, must be non-null\n",
    "    price = Column(Float, nullable=False)  # Price of the product, must be non-null\n",
    "    discount = Column(Float)  # Discount on the product, if applicable\n",
    "\n",
    "    # Relationships with other tables\n",
    "    order = relationship('Order', back_populates='order_details')  # The order to which this detail belongs\n",
    "    product = relationship('Product', back_populates='order_details')  # The product in this order detail\n",
    "\n",
    "class Event(Base):\n",
    "    \"\"\"Event model\"\"\"\n",
    "    __tablename__ = 'events'\n",
    "    id = Column(Integer, primary_key=True)  # Event ID, primary key\n",
    "    user_id = Column(Integer, ForeignKey('users.id'))  # Foreign key to the user related to the event\n",
    "    product_id = Column(Integer, ForeignKey('products.id'))  # Foreign key to the product related to the event\n",
    "    event_type = Column(String(50))  # Type of event (e.g., view, add to cart, etc.)\n",
    "    event_time = Column(DateTime, default=func.now())  # Date and time of the event, defaults to now\n",
    "\n",
    "    # Relationships with other tables\n",
    "    user = relationship('User', back_populates='events')  # User related to this event\n",
    "    product = relationship('Product', back_populates='events')  # Product related to this event\n",
    "\n",
    "class Cart(Base):\n",
    "    \"\"\"Cart model\"\"\"\n",
    "    __tablename__ = 'carts'\n",
    "    id = Column(Integer, primary_key=True)  # Cart ID, primary key\n",
    "    user_id = Column(Integer, ForeignKey('users.id'), unique=True)  # Foreign key to the user, unique\n",
    "\n",
    "    # Relationships with other tables\n",
    "    user = relationship('User', back_populates='cart')  # User owning this cart\n",
    "    cart_items = relationship('CartItem', back_populates='cart', cascade='all, delete-orphan')  # Items in the cart\n",
    "\n",
    "class CartItem(Base):\n",
    "    \"\"\"Cart item model\"\"\"\n",
    "    __tablename__ = 'cart_items'\n",
    "    id = Column(Integer, primary_key=True)  # Cart item ID, primary key\n",
    "    cart_id = Column(Integer, ForeignKey('carts.id'))  # Foreign key to the cart\n",
    "    product_id = Column(Integer, ForeignKey('products.id'))  # Foreign key to the product\n",
    "    quantity = Column(Integer, nullable=False)  # Quantity of the product in the cart, must be non-null\n",
    "    added_time = Column(DateTime, default=func.now())  # Date and time the product was added to the cart, defaults to now\n",
    "\n",
    "    # Relationships with other tables\n",
    "    cart = relationship('Cart', back_populates='cart_items')  # The cart to which this item belongs\n",
    "    product = relationship('Product', back_populates='cart_items')  # The product in this cart item\n",
    "\n",
    "if __name__ == \"__main__\":\n",
    "    engine = get_engine()\n",
    "    Base.metadata.create_all(engine)\n"
   ]
  },
  {
   "cell_type": "markdown",
   "id": "fa4d898b",
   "metadata": {},
   "source": [
    "### 2.2 Using Navicat to Create A Relational Entity Model.\n",
    "\n",
    "After successfully using the code to map and create these tables in MySQL, I can view the relational entity diagram using Navicat software: \n",
    "\n",
    "![](navicat_erd.png)"
   ]
  },
  {
   "cell_type": "code",
   "execution_count": null,
   "id": "67f9b972",
   "metadata": {},
   "outputs": [],
   "source": []
  }
 ],
 "metadata": {
  "kernelspec": {
   "display_name": "Python 3 (ipykernel)",
   "language": "python",
   "name": "python3"
  },
  "language_info": {
   "codemirror_mode": {
    "name": "ipython",
    "version": 3
   },
   "file_extension": ".py",
   "mimetype": "text/x-python",
   "name": "python",
   "nbconvert_exporter": "python",
   "pygments_lexer": "ipython3",
   "version": "3.7.11"
  }
 },
 "nbformat": 4,
 "nbformat_minor": 5
}
