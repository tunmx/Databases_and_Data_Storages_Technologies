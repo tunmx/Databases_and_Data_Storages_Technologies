{
 "cells": [
  {
   "cell_type": "markdown",
   "id": "e3b72e29",
   "metadata": {},
   "source": [
    "# Task No3 Indexes\n",
    "\n",
    "## 0. Task\n",
    "\n",
    "1. Read Lectures #5 Indexes\n",
    "2. Upload ONLY 80% dataset from Task1 to the created database from Task2.\n",
    "3. Create 3 queries to this database based on functionality from Task2.\n",
    "4. Implement queries in SQL.\n",
    "5. Run the queries and collect the query statistics (execution time and number of reads) and execution plan.\n",
    "6. Create B-tree indexes to improve these queries.\n",
    "7. Run the queries again and collect the query statistics (execution time and number of reads) after adding indexes and execution plan. Be sure that query plans contain created indexes.\n",
    "8. Compare execution time and query statistics without and with indexes.\n",
    "9. Make a conclusion."
   ]
  },
  {
   "cell_type": "markdown",
   "id": "8dfe061b",
   "metadata": {},
   "source": [
    "\n",
    "#### Student: Jingyu Yan\n"
   ]
  },
  {
   "cell_type": "markdown",
   "id": "0d3af893",
   "metadata": {},
   "source": [
    "## 1. Example\n",
    "\n",
    "Translate to English: \"According to Task NO.2, we have established an e-commerce system database for a cosmetics brand, and imported 80% of the data from the dataset into this database for the preparation of experimental data."
   ]
  },
  {
   "cell_type": "code",
   "execution_count": 9,
   "id": "d9cb529d",
   "metadata": {},
   "outputs": [],
   "source": [
    "from setting import get_engine\n",
    "from sqlalchemy import MetaData\n",
    "import pandas as pd\n",
    "import time\n",
    "from functools import wraps\n",
    "\n",
    "# Create the engine\n",
    "engine = get_engine()\n",
    "\n",
    "def cost(tag=''):\n",
    "    \"\"\"\n",
    "    A decorator for timing a function execution.\n",
    "    \"\"\"\n",
    "    def wrapper(fn):\n",
    "        @wraps(fn)\n",
    "        def wrapper_use_time(*args, **kw):\n",
    "            t1 = time.time()\n",
    "            try:\n",
    "                res = fn(*args, **kw)\n",
    "            except Exception as e:\n",
    "                print(f\"Error in {fn.__name__}({tag}): {str(e)}\")\n",
    "                return None\n",
    "            else:\n",
    "                t2 = time.time()\n",
    "                print(f\"{tag}@Cost of {fn.__name__}(): {round((t2 - t1) * 1000, 3)} ms\")\n",
    "                return res\n",
    "        return wrapper_use_time\n",
    "    return wrapper"
   ]
  },
  {
   "cell_type": "markdown",
   "id": "dd9f7690",
   "metadata": {},
   "source": [
    "Display database information"
   ]
  },
  {
   "cell_type": "code",
   "execution_count": 10,
   "id": "065106c9",
   "metadata": {},
   "outputs": [
    {
     "data": {
      "text/html": [
       "<div>\n",
       "<style scoped>\n",
       "    .dataframe tbody tr th:only-of-type {\n",
       "        vertical-align: middle;\n",
       "    }\n",
       "\n",
       "    .dataframe tbody tr th {\n",
       "        vertical-align: top;\n",
       "    }\n",
       "\n",
       "    .dataframe thead th {\n",
       "        text-align: right;\n",
       "    }\n",
       "</style>\n",
       "<table border=\"1\" class=\"dataframe\">\n",
       "  <thead>\n",
       "    <tr style=\"text-align: right;\">\n",
       "      <th></th>\n",
       "      <th>Table Name</th>\n",
       "      <th>Columns</th>\n",
       "      <th>Number of Rows</th>\n",
       "    </tr>\n",
       "  </thead>\n",
       "  <tbody>\n",
       "    <tr>\n",
       "      <th>0</th>\n",
       "      <td>cart_items</td>\n",
       "      <td>id, cart_id, product_id, quantity, added_time</td>\n",
       "      <td>33155</td>\n",
       "    </tr>\n",
       "    <tr>\n",
       "      <th>1</th>\n",
       "      <td>carts</td>\n",
       "      <td>id, user_id</td>\n",
       "      <td>10032</td>\n",
       "    </tr>\n",
       "    <tr>\n",
       "      <th>2</th>\n",
       "      <td>users</td>\n",
       "      <td>id, username, email, password_hash, registrati...</td>\n",
       "      <td>10032</td>\n",
       "    </tr>\n",
       "    <tr>\n",
       "      <th>3</th>\n",
       "      <td>products</td>\n",
       "      <td>id, name, category_id, brand, price, descripti...</td>\n",
       "      <td>1472</td>\n",
       "    </tr>\n",
       "    <tr>\n",
       "      <th>4</th>\n",
       "      <td>categories</td>\n",
       "      <td>id, name, code, parent_category_id</td>\n",
       "      <td>6</td>\n",
       "    </tr>\n",
       "    <tr>\n",
       "      <th>5</th>\n",
       "      <td>events</td>\n",
       "      <td>id, user_id, product_id, event_type, event_time</td>\n",
       "      <td>2286930</td>\n",
       "    </tr>\n",
       "    <tr>\n",
       "      <th>6</th>\n",
       "      <td>order_details</td>\n",
       "      <td>id, order_id, product_id, quantity, price, dis...</td>\n",
       "      <td>145271</td>\n",
       "    </tr>\n",
       "    <tr>\n",
       "      <th>7</th>\n",
       "      <td>orders</td>\n",
       "      <td>id, user_id, order_date, status, total_price</td>\n",
       "      <td>48413</td>\n",
       "    </tr>\n",
       "  </tbody>\n",
       "</table>\n",
       "</div>"
      ],
      "text/plain": [
       "      Table Name                                            Columns  \\\n",
       "0     cart_items      id, cart_id, product_id, quantity, added_time   \n",
       "1          carts                                        id, user_id   \n",
       "2          users  id, username, email, password_hash, registrati...   \n",
       "3       products  id, name, category_id, brand, price, descripti...   \n",
       "4     categories                 id, name, code, parent_category_id   \n",
       "5         events    id, user_id, product_id, event_type, event_time   \n",
       "6  order_details  id, order_id, product_id, quantity, price, dis...   \n",
       "7         orders       id, user_id, order_date, status, total_price   \n",
       "\n",
       "   Number of Rows  \n",
       "0           33155  \n",
       "1           10032  \n",
       "2           10032  \n",
       "3            1472  \n",
       "4               6  \n",
       "5         2286930  \n",
       "6          145271  \n",
       "7           48413  "
      ]
     },
     "execution_count": 10,
     "metadata": {},
     "output_type": "execute_result"
    }
   ],
   "source": [
    "def display_information(engine):\n",
    "    metadata = MetaData()\n",
    "    metadata.reflect(engine)\n",
    "\n",
    "    data = []\n",
    "    for table_name in metadata.tables:\n",
    "        table = metadata.tables[table_name]\n",
    "        columns = table.columns.keys()\n",
    "        data_types = [str(column.type) for column in table.columns.values()]\n",
    "        count = engine.execute(f\"SELECT COUNT(*) FROM {table_name}\").scalar()\n",
    "        data.append({\"Table Name\": table_name, \"Columns\": \", \".join([item for item in columns]), \"Number of Rows\": count})\n",
    "\n",
    "    df = pd.DataFrame(data)\n",
    "    df.style.set_table_styles(\n",
    "        [{'selector': 'th', 'props': [('font-size', '12pt'), ('text-align', 'center')]}]\n",
    "    ).set_properties(**{'background-color': 'lavender', 'color': 'black', 'border-color': 'black'})\n",
    "    \n",
    "    return df\n",
    "\n",
    "display_information(engine)"
   ]
  },
  {
   "cell_type": "markdown",
   "id": "d68238b1",
   "metadata": {},
   "source": [
    "The 'events' table, being the one with the most data and the most frequent interactions between the system and users, should be the primary focus of our example this time."
   ]
  },
  {
   "cell_type": "markdown",
   "id": "0287f28e",
   "metadata": {},
   "source": [
    "### Implement queries in SQL\n",
    "\n",
    "I have chosen to perform a query on the 'events' table to conduct an experiment on database indexing."
   ]
  },
  {
   "cell_type": "code",
   "execution_count": 11,
   "id": "94b9a59c",
   "metadata": {},
   "outputs": [],
   "source": [
    "@cost(\"SELECT\")\n",
    "def query_events_by_date_range(engine, start_date, end_date):\n",
    "    \"\"\"\n",
    "    Query events in the given date range.\n",
    "    \"\"\"\n",
    "    query = f\"\"\"\n",
    "        SELECT id, \n",
    "            user_id, \n",
    "            event_type, \n",
    "            event_time \n",
    "        FROM events\n",
    "        WHERE event_time >= '{start_date}'\n",
    "          AND event_time < '{end_date}';\n",
    "    \"\"\"\n",
    "    with engine.connect() as connection:\n",
    "        result = connection.execute(query, {'start_date': start_date, 'end_date': end_date})\n",
    "    \n",
    "    return result\n",
    "\n",
    "@cost(\"INDEX\")\n",
    "def create_index_by_events_date():\n",
    "    query = \"\"\"\n",
    "        CREATE INDEX idx_event_time ON events(event_time);\n",
    "    \"\"\"\n",
    "    with engine.connect() as connection:\n",
    "        connection.execute(query)"
   ]
  },
  {
   "cell_type": "markdown",
   "id": "1a2eddf9",
   "metadata": {},
   "source": [
    "### Executing the first query before using an index."
   ]
  },
  {
   "cell_type": "markdown",
   "id": "8da1744b",
   "metadata": {},
   "source": [
    "Run the queries and collect the query statistics (execution time and\n",
    "number of reads) and execution plan."
   ]
  },
  {
   "cell_type": "code",
   "execution_count": 14,
   "id": "02e6c4ba",
   "metadata": {},
   "outputs": [
    {
     "name": "stdout",
     "output_type": "stream",
     "text": [
      "SELECT@Cost of query_events_by_date_range(): 47.374 ms\n"
     ]
    }
   ],
   "source": [
    "res = query_events_by_date_range(engine, \"2017-06-22 00:00:00\", \"2017-06-23 00:00:00\")"
   ]
  },
  {
   "cell_type": "markdown",
   "id": "b916a11d",
   "metadata": {},
   "source": [
    "This query took **437.507ms** ms to execute.\n",
    "\n",
    "*Note: MySQL may not directly provide detailed query performance statistics such as \"Scan count\", \"logical reads\", or \"physical reads\" like SQL Server does, which is unfortunate considering my computer runs a Unix-like system that may not support these tools. Other tools might offer this functionality, but I haven't found them yet.*"
   ]
  },
  {
   "cell_type": "markdown",
   "id": "4aaa5f7b",
   "metadata": {},
   "source": [
    "### Create B-tree indexes to improve these queries.\n",
    "\n",
    "For this query task, we establish a B-tree indexes index."
   ]
  },
  {
   "cell_type": "code",
   "execution_count": 5,
   "id": "cd1d052e",
   "metadata": {},
   "outputs": [
    {
     "name": "stdout",
     "output_type": "stream",
     "text": [
      "INDEX@Cost of create_index_by_events_date(): 4392.725 ms\n"
     ]
    }
   ],
   "source": [
    "# Create B-tree index\n",
    "create_index_by_events_date()"
   ]
  },
  {
   "cell_type": "markdown",
   "id": "8afdb5df",
   "metadata": {},
   "source": [
    "It's important to note that creating an index can be time-consuming. This is due to the need for the database to scan and sort the relevant column's data, construct the index structure like a B-tree, and write this new index to disk. The process is influenced by the size of the data and the available system resources."
   ]
  },
  {
   "cell_type": "markdown",
   "id": "0cd331c0",
   "metadata": {},
   "source": [
    "### Query again after creating an index\n",
    "\n",
    "When I have created the index, I will execute the same query task as before."
   ]
  },
  {
   "cell_type": "code",
   "execution_count": 8,
   "id": "dae4ca23",
   "metadata": {},
   "outputs": [
    {
     "name": "stdout",
     "output_type": "stream",
     "text": [
      "SELECT@Cost of query_events_by_date_range(): 28.068 ms\n"
     ]
    }
   ],
   "source": [
    "res = query_events_by_date_range(engine, \"2017-06-22 00:00:00\", \"2017-06-23 00:00:00\")"
   ]
  },
  {
   "cell_type": "markdown",
   "id": "10dc5238",
   "metadata": {},
   "source": [
    "It is easily observed that the time taken to execute the query has been reduced.Executing the query locally took 9.677ms."
   ]
  },
  {
   "cell_type": "markdown",
   "id": "0dd5b0fd",
   "metadata": {},
   "source": [
    "## 2. Compare\n",
    "\n",
    "Comparing queries before and after creating an index, it's evident that in a table with over **900,000** entries, a conditional search using an index is significantly faster than one without an index."
   ]
  },
  {
   "cell_type": "markdown",
   "id": "182337cf",
   "metadata": {},
   "source": [
    "## 3. Make a Conclusion\n",
    "\n",
    "- Significant Speed Improvement: Queries with indexing in a table of over 900,000 records show a drastic speed increase, from over 400ms to just around 9.677ms.\n",
    "\n",
    "- Efficiency in Data Retrieval: Indexing significantly enhances the efficiency of data retrieval in large datasets.\n",
    "\n",
    "- Space-Time Trade-off: The benefits of faster queries come at the cost of additional storage space due to the index.\n",
    "\n",
    "- Applicability: Indexing is particularly useful for large tables and frequent query operations.\n",
    "\n",
    "- Selective Use: While indexes are beneficial, they should be used selectively based on query patterns and table sizes.\n",
    "\n",
    "- Maintenance Consideration: Indexes require maintenance, which should be considered in the overall database management strategy."
   ]
  },
  {
   "cell_type": "code",
   "execution_count": null,
   "id": "357c0c6e",
   "metadata": {},
   "outputs": [],
   "source": []
  }
 ],
 "metadata": {
  "kernelspec": {
   "display_name": "Python 3 (ipykernel)",
   "language": "python",
   "name": "python3"
  },
  "language_info": {
   "codemirror_mode": {
    "name": "ipython",
    "version": 3
   },
   "file_extension": ".py",
   "mimetype": "text/x-python",
   "name": "python",
   "nbconvert_exporter": "python",
   "pygments_lexer": "ipython3",
   "version": "3.7.11"
  }
 },
 "nbformat": 4,
 "nbformat_minor": 5
}
