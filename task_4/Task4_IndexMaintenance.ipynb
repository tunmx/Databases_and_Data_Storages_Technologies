{
 "cells": [
  {
   "cell_type": "markdown",
   "id": "3389e93e",
   "metadata": {},
   "source": [
    "# Task No.4 Index Maintenance\n",
    "\n",
    "1. Upload the rest 20% dataset from Task1.\n",
    "2. Check index fragmentation (for indexes from Task 3)\n",
    "3. Do index maintenance (REBUILD/REORGANIZE)\n",
    "4. Check index fragmentation again.\n",
    "5. Make a conclusion."
   ]
  },
  {
   "cell_type": "markdown",
   "id": "25834126",
   "metadata": {},
   "source": [
    "\n",
    "#### Student: Jingyu Yan\n"
   ]
  },
  {
   "cell_type": "markdown",
   "id": "c50b1092",
   "metadata": {},
   "source": [
    "## Solution\n",
    "\n",
    "Due to system differences, I use mysql for this experiment, and some data and operations may be different from sqlserver in the experiment process."
   ]
  },
  {
   "cell_type": "markdown",
   "id": "473cd9b1",
   "metadata": {},
   "source": [
    "### 1. Upload the Rest Dataset\n",
    "\n",
    "The remaining unused data is uploaded from the dataset in task1. The main data table involved is \"event\", because it is the key table to make the database conform to the database OLTP.\n",
    "\n",
    "\n",
    "In MySQL, we have to employ the method of inserting data and then selectively deleting it to create significant fragmentation, unlike in SQL Server where simply adding data can lead to fragmentation. This approach is necessary because MySQL, particularly with storage engines like InnoDB and MyISAM, is more efficient in space allocation and reuse, often automatically compacting and optimizing the storage to minimize fragmentation. As a result, to simulate a high level of fragmentation in MySQL for experimental or testing purposes, a more involved method of creating gaps and irregularities in the data — achieved through a combination of data insertion and random deletions — becomes necessary. This contrasts with SQL Server, where the internal mechanisms for managing space can result in fragmentation more readily just from data additions."
   ]
  },
  {
   "cell_type": "markdown",
   "id": "c610c891",
   "metadata": {},
   "source": [
    "### 2. Check index fragmentation\n",
    "\n",
    "Due to differences in database architecture, MySQL and SQL Server exhibit significant variations in certain features.  For instance, unlike SQL Server, MySQL does not offer a direct way to view index fragmentation percentages.  This is largely because MySQL's internal mechanisms for managing and optimizing data storage differ from those of SQL Server.  In MySQL, especially with the InnoDB engine, the system automatically manages space allocation and optimization.  This automated process often results in a reduction of fragmented space, as MySQL continuously works to efficiently utilize and reclaim space, leaving less room for fragmentation.  Additionally, the concept and measurement of fragmentation in MySQL are handled differently, often requiring indirect methods such as examining the ratio of free space to the total space used by the table (DATA_FREE versus DATA_LENGTH + INDEX_LENGTH) to infer fragmentation levels.\n",
    "\n",
    "\n",
    "Therefore, we need to manually implement certain functions to conduct this experiment. This includes manually calculating the fragmentation rate and disabling MySQL's automatic optimization of fragmented indexes to prevent any impact on experimental data."
   ]
  },
  {
   "cell_type": "code",
   "execution_count": 10,
   "id": "d1db805e",
   "metadata": {},
   "outputs": [
    {
     "name": "stdout",
     "output_type": "stream",
     "text": [
      "Table Name: events\n",
      "Data Length: 21991216\n",
      "Index Length: 36086784\n",
      "Data Free: 19404624\n"
     ]
    }
   ],
   "source": [
    "from setting import get_engine\n",
    "from sqlalchemy.orm import sessionmaker\n",
    "\n",
    "# Create the engine\n",
    "engine = get_engine()\n",
    "\n",
    "Session = sessionmaker(bind=engine)\n",
    "session = Session()\n",
    "\n",
    "result = session.execute(\"SHOW TABLE STATUS LIKE 'events'\")\n",
    "table_status = result.fetchone()\n",
    "\n",
    "# Print data\n",
    "print(\"Table Name:\", table_status['Name'])\n",
    "print(\"Data Length:\", table_status['Data_length'])\n",
    "print(\"Index Length:\", table_status['Index_length'])\n",
    "print(\"Data Free:\", table_status['Data_free'])\n",
    "\n",
    "session.close()"
   ]
  },
  {
   "cell_type": "markdown",
   "id": "f9f5423d",
   "metadata": {},
   "source": [
    "- **Data Length:** This value represents the total size of the data stored in the table, measured in bytes. It encompasses the actual data contained within the rows of the table.\n",
    "\n",
    "- **Index Length:** This indicates the total size of all the indexes for the table, also measured in bytes. Indexes are used to improve the speed of data retrieval operations on a database table, but they also consume space.\n",
    "\n",
    "- **Data Free:** This field shows the amount of space in the table that is currently unused or available for new data. In bytes, it represents the space that has been allocated but is not currently being used, often resulting from deleted or moved data within the table. This space can be reused for future data storage. A higher value in this field can indicate more fragmentation."
   ]
  },
  {
   "cell_type": "markdown",
   "id": "99716bc1",
   "metadata": {},
   "source": [
    "So, we calculate it this way: FRAGMENTATION_RATE = DATA_FREE / DATA_LENGTH + INDEX_LENGTH"
   ]
  },
  {
   "cell_type": "code",
   "execution_count": 11,
   "id": "0b78af97",
   "metadata": {},
   "outputs": [
    {
     "name": "stdout",
     "output_type": "stream",
     "text": [
      "fragmentation: 33.41%\n"
     ]
    }
   ],
   "source": [
    "# The index fragmentation rate was calculated manually\n",
    "total_length = table_status[\"Data_length\"] + table_status[\"Index_length\"]\n",
    "data_free = table_status[\"Data_free\"]\n",
    "fragmentation_percentage = (data_free / total_length) * 100 if total_length else 0\n",
    "\n",
    "print(f\"fragmentation: {round(fragmentation_percentage, 2)}%\")"
   ]
  },
  {
   "cell_type": "markdown",
   "id": "96612d43",
   "metadata": {},
   "source": [
    "The index fragmentation rate of the event table is 33.41%."
   ]
  },
  {
   "cell_type": "markdown",
   "id": "804ed3f8",
   "metadata": {},
   "source": [
    "### 3. Do index maintenance\n",
    "\n",
    "In MySQL, the equivalent of SQL Server's \"REBUILD\" and \"REORGANIZE\" index operations are as follows:\n",
    "\n",
    "- **REBUILD:** Use OPTIMIZE TABLE for both MyISAM and InnoDB engines. This command rebuilds the table and indexes, which can reduce fragmentation. Its effect varies slightly between MyISAM and InnoDB due to their different optimization features. \n",
    "\n",
    "\n",
    "- **REORGANIZE:** MySQL doesn't have a direct equivalent. The storage engines in MySQL, particularly InnoDB, automatically manage and optimize data storage, typically making a specific \"REORGANIZE\" operation unnecessary."
   ]
  },
  {
   "cell_type": "markdown",
   "id": "2e473b3c",
   "metadata": {},
   "source": [
    "For indexing in MySQL, we use the OPTIMIZE command to optimize tables. This command helps in defragmenting the table, improving performance. It works by restructuring the table and rebuilding the index in MyISAM, and compacting data in InnoDB, ensuring efficient space usage and better performance."
   ]
  },
  {
   "cell_type": "code",
   "execution_count": 13,
   "id": "e52ae6bf",
   "metadata": {},
   "outputs": [
    {
     "data": {
      "text/plain": [
       "<sqlalchemy.engine.result.ResultProxy at 0x7fbe5af8fc50>"
      ]
     },
     "execution_count": 13,
     "metadata": {},
     "output_type": "execute_result"
    }
   ],
   "source": [
    "Session = sessionmaker(bind=engine)\n",
    "session = Session()\n",
    "\n",
    "# Optimizing index Fragmentation\n",
    "session.execute(\"OPTIMIZE TABLE events\")\n",
    "session.close()"
   ]
  },
  {
   "cell_type": "markdown",
   "id": "546ede48",
   "metadata": {},
   "source": [
    "### 4. Check index fragmentation again.\n",
    "\n",
    "After performing index fragmentation optimization, we proceed to check the index fragmentation again, executing the same SQL query as used in the previous steps."
   ]
  },
  {
   "cell_type": "code",
   "execution_count": 18,
   "id": "44569abf",
   "metadata": {},
   "outputs": [
    {
     "name": "stdout",
     "output_type": "stream",
     "text": [
      "fragmentation: 0.0%\n"
     ]
    }
   ],
   "source": [
    "Session = sessionmaker(bind=engine)\n",
    "session = Session()\n",
    "\n",
    "result = session.execute(\"SHOW TABLE STATUS LIKE 'events'\")\n",
    "table_status = result.fetchone()\n",
    "\n",
    "# The index fragmentation rate was calculated manually\n",
    "total_length = table_status[\"Data_length\"] + table_status[\"Index_length\"]\n",
    "data_free = table_status[\"Data_free\"]\n",
    "fragmentation_percentage = (data_free / total_length) * 100 if total_length else 0\n",
    "\n",
    "print(f\"fragmentation: {round(fragmentation_percentage, 2)}%\")\n",
    "\n",
    "session.close()"
   ]
  },
  {
   "cell_type": "markdown",
   "id": "68f74e79",
   "metadata": {},
   "source": [
    "After optimization, the index fragmentation rate dropped directly to 0, indicating effective reorganization and efficient space utilization in the table."
   ]
  },
  {
   "cell_type": "markdown",
   "id": "24c72266",
   "metadata": {},
   "source": [
    "### 5. Make a conclusion.\n",
    "\n",
    "- **Effective Optimization:** The experiment demonstrated that the OPTIMIZE TABLE command in MySQL effectively reduces index fragmentation. After the optimization, the fragmentation rate dropped significantly, indicating a successful reorganization of the table data and indexes.\n",
    "\n",
    "\n",
    "- **Efficient Space Utilization:** The reduction in fragmentation rate to 0 suggests that the space within the table is now being used more efficiently. This implies fewer gaps and a more compact data structure.\n",
    "\n",
    "\n",
    "- **Performance Improvement:** Lower fragmentation typically correlates with improved performance, especially in read-intensive operations. The optimized table is likely to exhibit better efficiency in data retrieval.\n",
    "\n",
    "\n",
    "- **Database Health:** Regular optimization, as shown in this experiment, can be a crucial aspect of maintaining database health, particularly for tables subject to frequent insertions, deletions, and updates.\n",
    "\n",
    "\n",
    "- **Adaptability of MySQL:** The results also highlight MySQL’s adaptability in handling storage and indexing efficiently, showcasing its capability to automatically manage data storage and optimize performance."
   ]
  },
  {
   "cell_type": "code",
   "execution_count": null,
   "id": "fa144914",
   "metadata": {},
   "outputs": [],
   "source": []
  }
 ],
 "metadata": {
  "kernelspec": {
   "display_name": "Python 3",
   "language": "python",
   "name": "python3"
  },
  "language_info": {
   "codemirror_mode": {
    "name": "ipython",
    "version": 3
   },
   "file_extension": ".py",
   "mimetype": "text/x-python",
   "name": "python",
   "nbconvert_exporter": "python",
   "pygments_lexer": "ipython3",
   "version": "3.7.10"
  }
 },
 "nbformat": 4,
 "nbformat_minor": 5
}
